{
 "cells": [
  {
   "cell_type": "code",
   "execution_count": 1,
   "metadata": {},
   "outputs": [],
   "source": [
    "from flask import Flask, request, jsonify, render_template\n",
    "import pickle\n",
    "import numpy as np\n",
    "import pandas as pd\n",
    "import string\n",
    "import regex as re\n",
    "from Sastrawi.Stemmer.StemmerFactory import StemmerFactory\n",
    "\n",
    "app = Flask(__name__)\n",
    "model_a = pickle.load(open(\"model/a_classifier.pkl\", \"rb\"))\n",
    "model_sa = pickle.load(open(\"model/sa_classifier.pkl\", \"rb\"))\n",
    "model_ss = pickle.load(open(\"model/ss_classifier.pkl\", \"rb\"))\n",
    "tfidf_a = pickle.load(open(\"model/a_vectorizer.pkl\", \"rb\"))\n",
    "tfidf_sa = pickle.load(open(\"model/sa_vectorizer.pkl\", \"rb\"))\n",
    "tfidf_ss = pickle.load(open(\"model/ss_vectorizer.pkl\", \"rb\"))\n",
    "\n",
    "kamus = pd.read_csv(\"data/preprocessing/words.csv\")\n",
    "file_sw = open(\"data/preprocessing/stopwordbahasa.csv\", \"r\")\n",
    "kata_normalisasi_dict = {}\n",
    "sw = []\n",
    "factory = StemmerFactory()\n",
    "stemmer = factory.create_stemmer()\n",
    "remove_lists = [\"nya\", \"pun\", \"yang\", \"an\"]\n",
    "exceptions_sw = [\"tidak\", \"jangan\", \"guna\", \"manfaat\"]\n",
    "for index,row in kamus.iterrows():\n",
    "    if row[0] not in kata_normalisasi_dict:\n",
    "        kata_normalisasi_dict[row[0]] = row[1]\n",
    "for line in file_sw:\n",
    "    stripped_line = line.strip()\n",
    "    sw.append(stripped_line)\n",
    "for ex in exceptions_sw:\n",
    "    if ex in sw:\n",
    "        sw.remove(ex)\n",
    "        \n",
    "def vectorize(i_data,i_tfidf_vect_fit):\n",
    "    X_tfidf = i_tfidf_vect_fit.transform(i_data)\n",
    "    words = i_tfidf_vect_fit.get_feature_names()\n",
    "    X_tfidf_df = pd.DataFrame(X_tfidf.toarray())\n",
    "    X_tfidf_df.columns = words\n",
    "    return(X_tfidf_df)\n",
    "def punc_casefold_lower_token(sentence):\n",
    "    str_rm_punctuation = \\\n",
    "        sentence.translate(str.maketrans(\"\", \"\", string.punctuation))\n",
    "    str_no_number = re.sub('[^a-zA-Z]', ' ', str_rm_punctuation)\n",
    "    return str_no_number.lower().split()\n",
    "def pp_spelling(document):\n",
    "    return [kata_normalisasi_dict[term] \\\n",
    "        if term in kata_normalisasi_dict \\\n",
    "            else term for term in document]\n",
    "def pp_stemming(document):\n",
    "    stem_list = []\n",
    "    for word in document:\n",
    "        word_stemmed = stemmer.stem(word)\n",
    "        if word_stemmed in remove_lists:\n",
    "            continue\n",
    "        stem_list.append(word_stemmed)\n",
    "    return stem_list\n",
    "def pp_stopword(document):\n",
    "    list_clean = []\n",
    "    for word in document:\n",
    "        if word in sw:\n",
    "            continue\n",
    "        list_clean.append(word)\n",
    "    return list_clean\n",
    "def pp_text(text):\n",
    "    pp = punc_casefold_lower_token(text)\n",
    "    pp = pp_spelling(pp)\n",
    "    # pp = pp_stemming(pp)\n",
    "    pp = pp_stopword(pp)\n",
    "    return pp"
   ]
  },
  {
   "cell_type": "code",
   "execution_count": 31,
   "metadata": {},
   "outputs": [],
   "source": [
    "text = [\"Pelayanannya bagus, saya chat lewat whatsapp dibalas cepat\"]\n",
    "text = text[0]\n",
    "input_text = text\n",
    "\n",
    "text_pp = pp_text(text)"
   ]
  },
  {
   "cell_type": "code",
   "execution_count": 32,
   "metadata": {},
   "outputs": [
    {
     "data": {
      "text/plain": [
       "['pelayanannya', 'bagus', 'memanggil', 'whatsapp', 'dibalas', 'cepat']"
      ]
     },
     "execution_count": 32,
     "metadata": {},
     "output_type": "execute_result"
    }
   ],
   "source": [
    "text_pp"
   ]
  },
  {
   "cell_type": "code",
   "execution_count": 60,
   "metadata": {},
   "outputs": [
    {
     "data": {
      "text/plain": [
       "[['pelayanannya bagus memanggil whatsapp dibalas cepat']]"
      ]
     },
     "execution_count": 60,
     "metadata": {},
     "output_type": "execute_result"
    }
   ],
   "source": [
    "text_list = []\n",
    "text_list.append(\" \".join(text_pp))\n",
    "\n",
    "tmp = []\n",
    "tmp.append(text_list)\n",
    "tmp\n",
    "text_list = tmp\n",
    "text_list"
   ]
  },
  {
   "cell_type": "code",
   "execution_count": 63,
   "metadata": {},
   "outputs": [
    {
     "data": {
      "text/html": [
       "<div>\n",
       "<style scoped>\n",
       "    .dataframe tbody tr th:only-of-type {\n",
       "        vertical-align: middle;\n",
       "    }\n",
       "\n",
       "    .dataframe tbody tr th {\n",
       "        vertical-align: top;\n",
       "    }\n",
       "\n",
       "    .dataframe thead th {\n",
       "        text-align: right;\n",
       "    }\n",
       "</style>\n",
       "<table border=\"1\" class=\"dataframe\">\n",
       "  <thead>\n",
       "    <tr style=\"text-align: right;\">\n",
       "      <th></th>\n",
       "      <th>acak</th>\n",
       "      <th>ada</th>\n",
       "      <th>adanya</th>\n",
       "      <th>adil</th>\n",
       "      <th>admin</th>\n",
       "      <th>adminnya</th>\n",
       "      <th>aduan</th>\n",
       "      <th>aduannya</th>\n",
       "      <th>aduh</th>\n",
       "      <th>adukan</th>\n",
       "      <th>...</th>\n",
       "      <th>wilayah</th>\n",
       "      <th>wkwkwk</th>\n",
       "      <th>ya</th>\n",
       "      <th>yah</th>\n",
       "      <th>yak</th>\n",
       "      <th>yang</th>\n",
       "      <th>yasudahlah</th>\n",
       "      <th>ybs</th>\n",
       "      <th>yth</th>\n",
       "      <th>zoom</th>\n",
       "    </tr>\n",
       "  </thead>\n",
       "  <tbody>\n",
       "    <tr>\n",
       "      <th>0</th>\n",
       "      <td>0.0</td>\n",
       "      <td>0.0</td>\n",
       "      <td>0.0</td>\n",
       "      <td>0.0</td>\n",
       "      <td>0.0</td>\n",
       "      <td>0.0</td>\n",
       "      <td>0.0</td>\n",
       "      <td>0.0</td>\n",
       "      <td>0.0</td>\n",
       "      <td>0.0</td>\n",
       "      <td>...</td>\n",
       "      <td>0.0</td>\n",
       "      <td>0.0</td>\n",
       "      <td>0.0</td>\n",
       "      <td>0.0</td>\n",
       "      <td>0.0</td>\n",
       "      <td>0.0</td>\n",
       "      <td>0.0</td>\n",
       "      <td>0.0</td>\n",
       "      <td>0.0</td>\n",
       "      <td>0.0</td>\n",
       "    </tr>\n",
       "  </tbody>\n",
       "</table>\n",
       "<p>1 rows × 1665 columns</p>\n",
       "</div>"
      ],
      "text/plain": [
       "   acak  ada  adanya  adil  admin  adminnya  aduan  aduannya  aduh  adukan  \\\n",
       "0   0.0  0.0     0.0   0.0    0.0       0.0    0.0       0.0   0.0     0.0   \n",
       "\n",
       "   ...  wilayah  wkwkwk   ya  yah  yak  yang  yasudahlah  ybs  yth  zoom  \n",
       "0  ...      0.0     0.0  0.0  0.0  0.0   0.0         0.0  0.0  0.0   0.0  \n",
       "\n",
       "[1 rows x 1665 columns]"
      ]
     },
     "execution_count": 63,
     "metadata": {},
     "output_type": "execute_result"
    }
   ],
   "source": [
    "text_features = vectorize(text_list[0], tfidf_a)\n",
    "text_features"
   ]
  },
  {
   "cell_type": "code",
   "execution_count": 74,
   "metadata": {},
   "outputs": [
    {
     "data": {
      "text/html": [
       "<div>\n",
       "<style scoped>\n",
       "    .dataframe tbody tr th:only-of-type {\n",
       "        vertical-align: middle;\n",
       "    }\n",
       "\n",
       "    .dataframe tbody tr th {\n",
       "        vertical-align: top;\n",
       "    }\n",
       "\n",
       "    .dataframe thead th {\n",
       "        text-align: right;\n",
       "    }\n",
       "</style>\n",
       "<table border=\"1\" class=\"dataframe\">\n",
       "  <thead>\n",
       "    <tr style=\"text-align: right;\">\n",
       "      <th></th>\n",
       "      <th>bagus</th>\n",
       "      <th>cepat</th>\n",
       "      <th>dibalas</th>\n",
       "      <th>memanggil</th>\n",
       "      <th>whatsapp</th>\n",
       "    </tr>\n",
       "  </thead>\n",
       "  <tbody>\n",
       "    <tr>\n",
       "      <th>0</th>\n",
       "      <td>0.28441</td>\n",
       "      <td>0.329154</td>\n",
       "      <td>0.583922</td>\n",
       "      <td>0.529061</td>\n",
       "      <td>0.435772</td>\n",
       "    </tr>\n",
       "  </tbody>\n",
       "</table>\n",
       "</div>"
      ],
      "text/plain": [
       "     bagus     cepat   dibalas  memanggil  whatsapp\n",
       "0  0.28441  0.329154  0.583922   0.529061  0.435772"
      ]
     },
     "execution_count": 74,
     "metadata": {},
     "output_type": "execute_result"
    }
   ],
   "source": [
    "import numpy as np\n",
    "\n",
    "nonzero = (text_features != 0).any()\n",
    "a = nonzero.index[nonzero]\n",
    "a = nonzero.index[nonzero].tolist()\n",
    "a\n",
    "\n",
    "dfnew = text_features[text_features.columns.intersection(a)]\n",
    "dfnew"
   ]
  },
  {
   "cell_type": "code",
   "execution_count": 62,
   "metadata": {},
   "outputs": [
    {
     "data": {
      "text/plain": [
       "0    0.435772\n",
       "Name: whatsapp, dtype: float64"
      ]
     },
     "execution_count": 62,
     "metadata": {},
     "output_type": "execute_result"
    }
   ],
   "source": [
    "text_features[\"whatsapp\"]"
   ]
  },
  {
   "cell_type": "code",
   "execution_count": 75,
   "metadata": {},
   "outputs": [],
   "source": [
    "prediction_a = model_a.predict(text_features)"
   ]
  },
  {
   "cell_type": "code",
   "execution_count": 77,
   "metadata": {},
   "outputs": [
    {
     "data": {
      "text/plain": [
       "'service'"
      ]
     },
     "execution_count": 77,
     "metadata": {},
     "output_type": "execute_result"
    }
   ],
   "source": [
    "prediction_a[0]"
   ]
  },
  {
   "cell_type": "code",
   "execution_count": 78,
   "metadata": {},
   "outputs": [],
   "source": [
    "output_a = prediction_a[0]\n",
    "prediction_s = \"\"\n",
    "text_features = vectorize(text_list[0], tfidf_ss)\n",
    "prediction_s = model_ss.predict(text_features)"
   ]
  },
  {
   "cell_type": "code",
   "execution_count": 80,
   "metadata": {},
   "outputs": [
    {
     "data": {
      "text/html": [
       "<div>\n",
       "<style scoped>\n",
       "    .dataframe tbody tr th:only-of-type {\n",
       "        vertical-align: middle;\n",
       "    }\n",
       "\n",
       "    .dataframe tbody tr th {\n",
       "        vertical-align: top;\n",
       "    }\n",
       "\n",
       "    .dataframe thead th {\n",
       "        text-align: right;\n",
       "    }\n",
       "</style>\n",
       "<table border=\"1\" class=\"dataframe\">\n",
       "  <thead>\n",
       "    <tr style=\"text-align: right;\">\n",
       "      <th></th>\n",
       "      <th>bagus</th>\n",
       "      <th>cepat</th>\n",
       "      <th>dibalas</th>\n",
       "      <th>memanggil</th>\n",
       "      <th>whatsapp</th>\n",
       "    </tr>\n",
       "  </thead>\n",
       "  <tbody>\n",
       "    <tr>\n",
       "      <th>0</th>\n",
       "      <td>0.324965</td>\n",
       "      <td>0.310019</td>\n",
       "      <td>0.576636</td>\n",
       "      <td>0.541663</td>\n",
       "      <td>0.415184</td>\n",
       "    </tr>\n",
       "  </tbody>\n",
       "</table>\n",
       "</div>"
      ],
      "text/plain": [
       "      bagus     cepat   dibalas  memanggil  whatsapp\n",
       "0  0.324965  0.310019  0.576636   0.541663  0.415184"
      ]
     },
     "execution_count": 80,
     "metadata": {},
     "output_type": "execute_result"
    }
   ],
   "source": [
    "nonzero = (text_features != 0).any()\n",
    "a = nonzero.index[nonzero]\n",
    "a = nonzero.index[nonzero].tolist()\n",
    "a\n",
    "\n",
    "dfnew = text_features[text_features.columns.intersection(a)]\n",
    "dfnew"
   ]
  },
  {
   "cell_type": "code",
   "execution_count": 79,
   "metadata": {},
   "outputs": [
    {
     "data": {
      "text/plain": [
       "'positive'"
      ]
     },
     "execution_count": 79,
     "metadata": {},
     "output_type": "execute_result"
    }
   ],
   "source": [
    "prediction_s[0]"
   ]
  },
  {
   "cell_type": "code",
   "execution_count": null,
   "metadata": {},
   "outputs": [],
   "source": []
  }
 ],
 "metadata": {
  "kernelspec": {
   "display_name": "base",
   "language": "python",
   "name": "python3"
  },
  "language_info": {
   "codemirror_mode": {
    "name": "ipython",
    "version": 3
   },
   "file_extension": ".py",
   "mimetype": "text/x-python",
   "name": "python",
   "nbconvert_exporter": "python",
   "pygments_lexer": "ipython3",
   "version": "3.9.7"
  },
  "orig_nbformat": 4,
  "vscode": {
   "interpreter": {
    "hash": "ad2bdc8ecc057115af97d19610ffacc2b4e99fae6737bb82f5d7fb13d2f2c186"
   }
  }
 },
 "nbformat": 4,
 "nbformat_minor": 2
}
